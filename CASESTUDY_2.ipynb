{
  "nbformat": 4,
  "nbformat_minor": 0,
  "metadata": {
    "colab": {
      "provenance": [],
      "authorship_tag": "ABX9TyONLFSG/Ol26jz2VX/hSwa+",
      "include_colab_link": true
    },
    "kernelspec": {
      "name": "python3",
      "display_name": "Python 3"
    },
    "language_info": {
      "name": "python"
    }
  },
  "cells": [
    {
      "cell_type": "markdown",
      "metadata": {
        "id": "view-in-github",
        "colab_type": "text"
      },
      "source": [
        "<a href=\"https://colab.research.google.com/github/ilovedot/HI/blob/main/CASESTUDY_2.ipynb\" target=\"_parent\"><img src=\"https://colab.research.google.com/assets/colab-badge.svg\" alt=\"Open In Colab\"/></a>"
      ]
    },
    {
      "cell_type": "code",
      "execution_count": null,
      "metadata": {
        "id": "diwjudMllJT7"
      },
      "outputs": [],
      "source": [
        "def led_brightness_control():\n",
        "    min_brightness = 0\n",
        "    max_brightness = 100\n",
        "    step_size = 10\n",
        "    brightness = 50\n",
        "    print(\"Welcome to LED Brightness Control!\")\n",
        "    print(\"Commands:\")\n",
        "    print(\"'i' to increase brightness\")\n",
        "    print(\"'d' to decrease brightness\")\n",
        "    print(\"'q' to quit the program\")\n",
        "\n",
        "    while True:\n",
        "\n",
        "        command = input(\"Enter command: \").strip().lower()\n",
        "        if command == 'i':\n",
        "\n",
        "            if brightness + step_size <= max_brightness:\n",
        "                brightness += step_size\n",
        "                print(f\"Brightness increased to: {brightness}%\")\n",
        "            else:\n",
        "                print(\"Brightness is already at maximum!\")\n",
        "        elif command == 'd':\n",
        "\n",
        "            if brightness - step_size >= min_brightness:\n",
        "                brightness -= step_size\n",
        "                print(f\"Brightness decreased to: {brightness}%\")\n",
        "            else:\n",
        "                print(\"Brightness is already at minimum!\")\n",
        "        elif command == 'q':\n",
        "\n",
        "            print(\"Exiting LED Brightness Control. Goodbye!\")\n",
        "            break\n",
        "        else:\n",
        "\n",
        "            print(\"Invalid command. Please try again.\")\n",
        "\n",
        "        visual = '|' * (brightness // step_size)\n",
        "        print(f\"Brightness Visual: [{visual}]\\n\")\n",
        " led_brightness_control()"
      ]
    }
  ]
}